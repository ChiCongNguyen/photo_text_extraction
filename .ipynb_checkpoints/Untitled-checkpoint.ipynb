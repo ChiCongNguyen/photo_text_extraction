{
 "cells": [
  {
   "cell_type": "markdown",
   "metadata": {},
   "source": [
    "<h2>Project object detection</h2>\n",
    "    <br>\n",
    "\n",
    "<p> package/module required : opencv-python|PIL , pytesseract</p>\n",
    "<br>\n",
    "<p> Goal: <br>\n",
    "    - Resize photo <br>\n",
    "    - crop hinh theo pixel <br>\n",
    "    - text extraction  <br>\n",
    "</p>\n",
    "\n",
    "<p> Note:\n",
    "    <br>Import image by PIL make the text extraction by pytesseract more effectively\n",
    "    <br>Transform image to black/white is better for text extraction\n",
    "    <br><a href=\"https://levelup.gitconnected.com/text-extraction-from-a-table-image-using-pytesseract-and-opencv-3342870691ae\">\"Tham khao\"</a>\n",
    "</p>\n"
   ]
  },
  {
   "cell_type": "code",
   "execution_count": 1,
   "metadata": {},
   "outputs": [],
   "source": [
    "import cv2\n",
    "try:\n",
    "    from PIL import Image\n",
    "except ImportError:\n",
    "    import Image\n",
    "import pytesseract"
   ]
  },
  {
   "cell_type": "code",
   "execution_count": 2,
   "metadata": {},
   "outputs": [
    {
     "name": "stdout",
     "output_type": "stream",
     "text": [
      "/Users/chicong/Study/Project_moi\n",
      "./photo/danhsachhocsinh.jpg (1000, 910, 3)\n"
     ]
    }
   ],
   "source": [
    "!pwd\n",
    "\n",
    "IMG_PATH = './photo/danhsachhocsinh.jpg'\n",
    "\n",
    "# read image\n",
    "img = cv2.imread(IMG_PATH)\n",
    "\n",
    "#cv2.imshow('image', img)\n",
    "print(IMG_PATH, img.shape)\n",
    "\n",
    "\n",
    "\n",
    "# cv2.imshow('image', img)\n",
    "# #waits for user to press any key \n",
    "# #(this is necessary to avoid Python kernel form crashing)\n",
    "# cv2.waitKey(0) \n",
    "# #closing all open windows \n",
    "# cv2.destroyAllWindows() \n",
    "\n"
   ]
  },
  {
   "cell_type": "markdown",
   "metadata": {},
   "source": [
    "<h4>This is resizing photo</h4>\n",
    "    "
   ]
  },
  {
   "cell_type": "code",
   "execution_count": 12,
   "metadata": {
    "collapsed": true
   },
   "outputs": [
    {
     "name": "stdout",
     "output_type": "stream",
     "text": [
      "girl_xinh_2_800x400.jpg (400, 800, 3)\n"
     ]
    }
   ],
   "source": [
    "Resize \n",
    "new_width = 800\n",
    "new_height = 400\n",
    "img_resized = cv2.resize(src=img, dsize=(new_width, new_height))\n",
    "reisze_img_name = 'danhsachhocsinh%dx%d.jpg' % (new_width, new_height)\n",
    "cv2.imwrite(reisze_img_name, img_resized)\n",
    "print(reisze_img_name, img_resized.shape)\n",
    "\n"
   ]
  },
  {
   "cell_type": "markdown",
   "metadata": {},
   "source": [
    "<h4>This is crop photo</h4>"
   ]
  },
  {
   "cell_type": "code",
   "execution_count": 3,
   "metadata": {},
   "outputs": [
    {
     "name": "stdout",
     "output_type": "stream",
     "text": [
      "dshocsinh.jpg (643, 820, 3)\n",
      "Done\n"
     ]
    }
   ],
   "source": [
    "img_crop = img[160:803, 0:820]\n",
    "crop_name = 'dshocsinh.jpg'\n",
    "print(crop_name, img_crop.shape)\n",
    "\n",
    "cv2.imwrite(crop_name, img_crop)\n",
    "print('Done')\n"
   ]
  },
  {
   "cell_type": "markdown",
   "metadata": {},
   "source": [
    "<h4>Split photo into small pieces which is a row storing student's info</h4>"
   ]
  },
  {
   "cell_type": "code",
   "execution_count": 4,
   "metadata": {
    "collapsed": true
   },
   "outputs": [
    {
     "name": "stdout",
     "output_type": "stream",
     "text": [
      "(25, 820, 3) 643 dshocsinh.jpg 25\n",
      "done hinh hocsinh_1.jpg\n",
      "(25, 820, 3) 643 dshocsinh.jpg 50\n",
      "done hinh hocsinh_2.jpg\n",
      "(25, 820, 3) 643 dshocsinh.jpg 75\n",
      "done hinh hocsinh_3.jpg\n",
      "(25, 820, 3) 643 dshocsinh.jpg 100\n",
      "done hinh hocsinh_4.jpg\n",
      "(25, 820, 3) 643 dshocsinh.jpg 125\n",
      "done hinh hocsinh_5.jpg\n",
      "(25, 820, 3) 643 dshocsinh.jpg 150\n",
      "done hinh hocsinh_6.jpg\n",
      "(25, 820, 3) 643 dshocsinh.jpg 175\n",
      "done hinh hocsinh_7.jpg\n",
      "(25, 820, 3) 643 dshocsinh.jpg 200\n",
      "done hinh hocsinh_8.jpg\n",
      "(25, 820, 3) 643 dshocsinh.jpg 225\n",
      "done hinh hocsinh_9.jpg\n",
      "(25, 820, 3) 643 dshocsinh.jpg 250\n",
      "done hinh hocsinh_10.jpg\n",
      "(25, 820, 3) 643 dshocsinh.jpg 275\n",
      "done hinh hocsinh_11.jpg\n",
      "(25, 820, 3) 643 dshocsinh.jpg 300\n",
      "done hinh hocsinh_12.jpg\n",
      "(25, 820, 3) 643 dshocsinh.jpg 325\n",
      "done hinh hocsinh_13.jpg\n",
      "(25, 820, 3) 643 dshocsinh.jpg 350\n",
      "done hinh hocsinh_14.jpg\n",
      "(25, 820, 3) 643 dshocsinh.jpg 375\n",
      "done hinh hocsinh_15.jpg\n",
      "(25, 820, 3) 643 dshocsinh.jpg 400\n",
      "done hinh hocsinh_16.jpg\n",
      "(25, 820, 3) 643 dshocsinh.jpg 425\n",
      "done hinh hocsinh_17.jpg\n",
      "(25, 820, 3) 643 dshocsinh.jpg 450\n",
      "done hinh hocsinh_18.jpg\n",
      "(25, 820, 3) 643 dshocsinh.jpg 475\n",
      "done hinh hocsinh_19.jpg\n",
      "(25, 820, 3) 643 dshocsinh.jpg 500\n",
      "done hinh hocsinh_20.jpg\n",
      "(25, 820, 3) 643 dshocsinh.jpg 525\n",
      "done hinh hocsinh_21.jpg\n",
      "(25, 820, 3) 643 dshocsinh.jpg 550\n",
      "done hinh hocsinh_22.jpg\n",
      "(25, 820, 3) 643 dshocsinh.jpg 575\n",
      "done hinh hocsinh_23.jpg\n",
      "(25, 820, 3) 643 dshocsinh.jpg 600\n",
      "done hinh hocsinh_24.jpg\n",
      "(25, 820, 3) 643 dshocsinh.jpg 625\n",
      "done hinh hocsinh_25.jpg\n",
      "(18, 820, 3) 643 dshocsinh.jpg 650\n",
      "done hinh hocsinh_26.jpg\n"
     ]
    }
   ],
   "source": [
    "i_zero = 0\n",
    "k = 0\n",
    "while i_zero <= img_crop.shape[0]:\n",
    "\n",
    "    img_crop_1 = img_crop[i_zero:i_zero+25, 0:820]     \n",
    "\n",
    "    i_zero = i_zero + 25   \n",
    "    \n",
    "    k=k+1\n",
    "    crop_name_1 = 'hocsinh_{}.jpg'.format(k)\n",
    "    \n",
    "    print (img_crop_1.shape, img_crop.shape[0], crop_name,i_zero )\n",
    "    \n",
    "    cv2.imwrite(crop_name_1, img_crop_1)\n",
    "    print ('done hinh {}'.format(crop_name_1))"
   ]
  },
  {
   "cell_type": "code",
   "execution_count": 13,
   "metadata": {},
   "outputs": [
    {
     "name": "stdout",
     "output_type": "stream",
     "text": [
      "=====output=======\n",
      "\n",
      " \n",
      "\n",
      "   \n",
      "\n",
      "| 4 |PhanThao | 2004] THCS Hoang Hoa Tham |\n",
      "\f",
      "\n"
     ]
    }
   ],
   "source": [
    "image_file = 'hocsinh_5.jpg'\n",
    "#im = Image.open(image_file)\n",
    "im = cv2.imread(image_file)\n",
    "\n",
    "text = pytesseract.image_to_string(im)\n",
    "print (\"=====output=======\\n\")\n",
    "print (text)"
   ]
  },
  {
   "cell_type": "code",
   "execution_count": null,
   "metadata": {},
   "outputs": [],
   "source": []
  }
 ],
 "metadata": {
  "kernelspec": {
   "display_name": "Python 3",
   "language": "python",
   "name": "python3"
  },
  "language_info": {
   "codemirror_mode": {
    "name": "ipython",
    "version": 3
   },
   "file_extension": ".py",
   "mimetype": "text/x-python",
   "name": "python",
   "nbconvert_exporter": "python",
   "pygments_lexer": "ipython3",
   "version": "3.8.5"
  }
 },
 "nbformat": 4,
 "nbformat_minor": 4
}
